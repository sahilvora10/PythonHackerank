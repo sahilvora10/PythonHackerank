{
 "cells": [
  {
   "cell_type": "code",
   "execution_count": 5,
   "metadata": {},
   "outputs": [],
   "source": [
    "import numpy as np\n",
    "import scipy.stats as stats"
   ]
  },
  {
   "cell_type": "code",
   "execution_count": 6,
   "metadata": {},
   "outputs": [],
   "source": [
    "n_values = [20,100,600]\n",
    "significance_value = 0.05"
   ]
  },
  {
   "cell_type": "markdown",
   "metadata": {},
   "source": [
    "The Hypothesis here is that the means of this feature for the two classes are the same"
   ]
  },
  {
   "cell_type": "markdown",
   "metadata": {},
   "source": [
    "Using the following Forumulas we can do the hypothesis testing"
   ]
  },
  {
   "cell_type": "markdown",
   "metadata": {},
   "source": [
    "![image info](hypo.png)"
   ]
  },
  {
   "cell_type": "code",
   "execution_count": 9,
   "metadata": {},
   "outputs": [
    {
     "name": "stdout",
     "output_type": "stream",
     "text": [
      "The number of samples is:  20\n",
      "Range for which area under curve is 1- significance_value:  -1.96  to  1.96\n",
      "q= -1.879295669385262\n",
      "Hypothesis Accepted\n",
      "\n",
      "The number of samples is:  100\n",
      "Range for which area under curve is 1- significance_value:  -1.96  to  1.96\n",
      "q= -4.584315463985083\n",
      "Hypothesis Rejected\n",
      "\n",
      "The number of samples is:  600\n",
      "Range for which area under curve is 1- significance_value:  -1.96  to  1.96\n",
      "q= -7.3785181147302765\n",
      "Hypothesis Rejected\n",
      "\n"
     ]
    }
   ],
   "source": [
    "for n in n_values:\n",
    "    print('The number of samples is: ',n)\n",
    "    np.random.seed(1)\n",
    "    d1 = np.random.normal(1,1,n)\n",
    "    d2 = np.random.normal(1.5,1,n)\n",
    "    # print(d1,d2)\n",
    "    sz= (np.var(d1)+np.var(d2))*n/(2*n-2)\n",
    "    sz = np.sqrt(sz)\n",
    "    sz = sz*np.sqrt(2/n)\n",
    "    q = (np.mean(d1)-np.mean(d2))/sz\n",
    "    x1 = round(stats.norm.ppf(significance_value/2),2) #calculates the start range for distribution for which area under curve is 1- significance_value\n",
    "    x2 = round(stats.norm.ppf((1-significance_value/2)),2) #calculates the end range for distribution for which area under curve is 1- significance_value\n",
    "    print('Range for which area under curve is 1- significance_value: ',x1,' to ',x2)\n",
    "    print('q=',q)\n",
    "    if q>=x1 and q<=x2:\n",
    "        print('Hypothesis Accepted')\n",
    "    else:\n",
    "        print('Hypothesis Rejected')\n",
    "    print()"
   ]
  },
  {
   "cell_type": "markdown",
   "metadata": {},
   "source": [
    "We can also use ttest_rel that performs the similar operation which is a test for the null hypothesis that two related or repeated samples have identical average (expected) values.\n",
    "https://docs.scipy.org/doc/scipy/reference/generated/scipy.stats.ttest_rel.html"
   ]
  },
  {
   "cell_type": "code",
   "execution_count": 10,
   "metadata": {},
   "outputs": [
    {
     "name": "stdout",
     "output_type": "stream",
     "text": [
      "The number of samples is:  20\n",
      "p-value:  0.08214158524408559\n",
      "Hypothesis Accepted\n",
      "\n",
      "The number of samples is:  100\n",
      "p-value:  5.469092243189809e-06\n",
      "Hypothesis Rejected\n",
      "\n",
      "The number of samples is:  600\n",
      "p-value:  1.432968215162725e-12\n",
      "Hypothesis Rejected\n",
      "\n"
     ]
    }
   ],
   "source": [
    "for n in n_values:\n",
    "    print('The number of samples is: ',n)\n",
    "    np.random.seed(1)\n",
    "    d1 = np.random.normal(1,1,n)\n",
    "    d2 = np.random.normal(1.5,1,n)\n",
    "    # print(d1,d2)\n",
    "    s,p = stats.ttest_rel(d1,d2)\n",
    "    print('p-value: ',p)\n",
    "    if p>significance_value:\n",
    "        print('Hypothesis Accepted')\n",
    "    else:\n",
    "        print('Hypothesis Rejected')\n",
    "    print()"
   ]
  }
 ],
 "metadata": {
  "kernelspec": {
   "display_name": "Python 3.10.1 64-bit",
   "language": "python",
   "name": "python3"
  },
  "language_info": {
   "codemirror_mode": {
    "name": "ipython",
    "version": 3
   },
   "file_extension": ".py",
   "mimetype": "text/x-python",
   "name": "python",
   "nbconvert_exporter": "python",
   "pygments_lexer": "ipython3",
   "version": "3.10.1"
  },
  "orig_nbformat": 4,
  "vscode": {
   "interpreter": {
    "hash": "67f1a58412a5992903d8a569a5baa1f1514123756be715fd660b0e3603a8940d"
   }
  }
 },
 "nbformat": 4,
 "nbformat_minor": 2
}
